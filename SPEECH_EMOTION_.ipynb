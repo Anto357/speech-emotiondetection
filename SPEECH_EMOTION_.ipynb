{
  "cells": [
    {
      "cell_type": "code",
      "source": [
        "!git clone https://github.com/Anto357/speech-emotiondetection.git"
      ],
      "metadata": {
        "colab": {
          "base_uri": "https://localhost:8080/"
        },
        "id": "S_2khPQ0XotA",
        "outputId": "c051fb28-53f6-4f69-8c3d-507393c077a5"
      },
      "execution_count": null,
      "outputs": [
        {
          "output_type": "stream",
          "name": "stdout",
          "text": [
            "fatal: destination path 'speech-emotiondetection' already exists and is not an empty directory.\n"
          ]
        }
      ]
    },
    {
      "cell_type": "markdown",
      "source": [
        "### Feature Extraction"
      ],
      "metadata": {
        "id": "POKmFcgnXpav"
      }
    },
    {
      "cell_type": "code",
      "source": [
        "import os\n",
        "import numpy as np\n",
        "import torch\n",
        "import librosa\n",
        "from tqdm import tqdm\n",
        "import logging\n",
        "import pandas as pd\n",
        "\n",
        "# Suppress transformers logging to avoid Wav2Vec2 warning\n",
        "logging.getLogger(\"transformers\").setLevel(logging.ERROR)\n",
        "\n",
        "# Set Device and Paths\n",
        "device = torch.device(\"cuda\" if torch.cuda.is_available() else \"cpu\")\n",
        "dataset_path = \"/content/speech-emotiondetection/crema/\"\n",
        "\n",
        "# Set device (GPU if available, else CPU)\n",
        "device = torch.device(\"cuda\" if torch.cuda.is_available() else \"cpu\")\n",
        "print(f\"Using device: {device}\")\n",
        "\n",
        "# Define label mapping\n",
        "label_map = {\n",
        "    \"SAD\": 0,  # sadness\n",
        "    \"ANG\": 1,  # angry\n",
        "    \"DIS\": 2,  # disgust\n",
        "    \"FEA\": 3,  # fear\n",
        "    \"HAP\": 4,  # happy\n",
        "    \"NEU\": 5   # neutral\n",
        "}\n",
        "\n",
        "# Function to extract labels from filenames\n",
        "def extract_labels_from_filenames(folder_path):\n",
        "    file_list = []\n",
        "    label_list = []\n",
        "\n",
        "    for filename in os.listdir(folder_path):\n",
        "        if filename.endswith(\".wav\"):\n",
        "            file_path = os.path.join(folder_path, filename)\n",
        "            label_str = filename.split(\"_\")[2]\n",
        "            if label_str in label_map:\n",
        "                file_list.append(file_path)\n",
        "                label_list.append(label_map[label_str])\n",
        "\n",
        "    return file_list, label_list\n",
        "\n",
        "\n",
        "file_list, label_list = extract_labels_from_filenames(dataset_path)\n",
        "tqdm.write(f\"Found {len(file_list)} audio files.\")\n",
        "tqdm.write(f\"Labels found: {set(label_list)}\")"
      ],
      "metadata": {
        "colab": {
          "base_uri": "https://localhost:8080/"
        },
        "id": "Tx4FI5DeXoqC",
        "outputId": "aca06f9b-8433-44b4-c79d-0f8760036999"
      },
      "execution_count": null,
      "outputs": [
        {
          "output_type": "stream",
          "name": "stdout",
          "text": [
            "Using device: cuda\n",
            "Found 7442 audio files.\n",
            "Labels found: {0, 1, 2, 3, 4, 5}\n"
          ]
        }
      ]
    },
    {
      "cell_type": "code",
      "source": [
        "# NOISE\n",
        "def noise(data):\n",
        "    noise_amp = 0.035 * np.random.uniform() * np.amax(data)\n",
        "    return data + noise_amp * np.random.normal(size=data.shape[0])\n",
        "\n",
        "# STRETCH\n",
        "def stretch(data, rate=0.8):\n",
        "    return librosa.effects.time_stretch(data, rate)\n",
        "\n",
        "# SHIFT\n",
        "def shift(data):\n",
        "    shift_range = int(np.random.uniform(low=-5, high=5) * 1000)\n",
        "    return np.roll(data, shift_range)\n",
        "\n",
        "# PITCH\n",
        "def pitch(data, sampling_rate, pitch_factor=0.7):\n",
        "    return librosa.effects.pitch_shift(y=data, sr=sampling_rate, n_steps=pitch_factor)\n",
        "\n",
        "# FEATURE EXTRACTION FUNCTIONS\n",
        "def zcr(data, frame_length=2048, hop_length=512):\n",
        "    zcr = librosa.feature.zero_crossing_rate(y=data, frame_length=frame_length, hop_length=hop_length)\n",
        "    return np.squeeze(zcr)\n",
        "\n",
        "def rmse(data, frame_length=2048, hop_length=512):\n",
        "    rmse = librosa.feature.rms(y=data, frame_length=frame_length, hop_length=hop_length)\n",
        "    return np.squeeze(rmse)\n",
        "\n",
        "def mfcc(data, sr=22050, frame_length=2048, hop_length=512, flatten=True):\n",
        "    mfcc = librosa.feature.mfcc(y=data, sr=sr)\n",
        "    return np.squeeze(mfcc.T) if not flatten else np.ravel(mfcc.T)\n",
        "\n",
        "# Calculate expected feature length\n",
        "def get_expected_feature_length(duration=2.5, sr=22050, frame_length=2048, hop_length=512):\n",
        "    # Number of frames for 2.5 seconds of audio\n",
        "    num_samples = int(duration * sr)\n",
        "    num_frames = 1 + (num_samples - frame_length) // hop_length\n",
        "    # ZCR and RMSE: 1 value per frame\n",
        "    zcr_len = num_frames\n",
        "    rmse_len = num_frames\n",
        "    # MFCC: 20 coefficients per frame (default in librosa), flattened\n",
        "    mfcc_len = num_frames * 20\n",
        "    total_len = zcr_len + rmse_len + mfcc_len\n",
        "    return total_len\n",
        "\n",
        "# Expected feature length for 2.5 seconds at 22050 Hz\n",
        "EXPECTED_FEATURE_LENGTH = get_expected_feature_length()\n",
        "print(f\"Expected feature length: {EXPECTED_FEATURE_LENGTH}\")"
      ],
      "metadata": {
        "colab": {
          "base_uri": "https://localhost:8080/"
        },
        "id": "fi_jP3D5Xoit",
        "outputId": "568b9e4b-52a7-4401-de29-1f40990ebd0c"
      },
      "execution_count": null,
      "outputs": [
        {
          "output_type": "stream",
          "name": "stdout",
          "text": [
            "Expected feature length: 2288\n"
          ]
        }
      ]
    },
    {
      "cell_type": "code",
      "source": [
        "def extract_features(data, sr=22050, frame_length=2048, hop_length=512):\n",
        "    # Extract features\n",
        "    zcr_data = zcr(data, frame_length, hop_length)\n",
        "    rmse_data = rmse(data, frame_length, hop_length)\n",
        "    mfcc_data = mfcc(data, sr, frame_length, hop_length)\n",
        "\n",
        "    # Pad or truncate to ensure consistent length\n",
        "    num_frames = 1 + (len(data) - frame_length) // hop_length\n",
        "    expected_frames = 1 + (int(2.5 * sr) - frame_length) // hop_length\n",
        "\n",
        "    # Pad or truncate ZCR\n",
        "    if len(zcr_data) < expected_frames:\n",
        "        zcr_data = np.pad(zcr_data, (0, expected_frames - len(zcr_data)), mode='constant')\n",
        "    elif len(zcr_data) > expected_frames:\n",
        "        zcr_data = zcr_data[:expected_frames]\n",
        "\n",
        "    # Pad or truncate RMSE\n",
        "    if len(rmse_data) < expected_frames:\n",
        "        rmse_data = np.pad(rmse_data, (0, expected_frames - len(rmse_data)), mode='constant')\n",
        "    elif len(rmse_data) > expected_frames:\n",
        "        rmse_data = rmse_data[:expected_frames]\n",
        "\n",
        "    # Pad or truncate MFCC (20 coefficients per frame)\n",
        "    expected_mfcc_len = expected_frames * 20\n",
        "    if len(mfcc_data) < expected_mfcc_len:\n",
        "        mfcc_data = np.pad(mfcc_data, (0, expected_mfcc_len - len(mfcc_data)), mode='constant')\n",
        "    elif len(mfcc_data) > expected_mfcc_len:\n",
        "        mfcc_data = mfcc_data[:expected_mfcc_len]\n",
        "\n",
        "    # Combine features\n",
        "    result = np.hstack((zcr_data, rmse_data, mfcc_data))\n",
        "    if len(result) != EXPECTED_FEATURE_LENGTH:\n",
        "        raise ValueError(f\"Feature length {len(result)} does not match expected length {EXPECTED_FEATURE_LENGTH}\")\n",
        "    return result\n",
        "\n",
        "def get_features(path, duration=2.5, offset=0.6):\n",
        "    try:\n",
        "        # Load audio with fixed duration\n",
        "        data, sr = librosa.load(path, duration=duration, offset=offset, sr=22050)\n",
        "        # Ensure audio is exactly 2.5 seconds by padding or trimming\n",
        "        expected_samples = int(duration * sr)\n",
        "        if len(data) < expected_samples:\n",
        "            data = np.pad(data, (0, expected_samples - len(data)), mode='constant')\n",
        "        elif len(data) > expected_samples:\n",
        "            data = data[:expected_samples]\n",
        "    except Exception as e:\n",
        "        print(f\"Error loading {path}: {e}\")\n",
        "        return np.zeros((4, EXPECTED_FEATURE_LENGTH))  # Return zero array if loading fails\n",
        "\n",
        "    audio_features = []\n",
        "    # Original\n",
        "    audio_features.append(extract_features(data, sr=sr))\n",
        "    # Noised\n",
        "    noised_audio = noise(data.copy())\n",
        "    audio_features.append(extract_features(noised_audio, sr=sr))\n",
        "    # Pitched\n",
        "    pitched_audio = pitch(data.copy(), sr)\n",
        "    audio_features.append(extract_features(pitched_audio, sr=sr))\n",
        "    # Pitched + Noised\n",
        "    pitched_noised_audio = noise(pitch(data.copy(), sr))\n",
        "    audio_features.append(extract_features(pitched_noised_audio, sr=sr))\n",
        "\n",
        "    features = np.vstack(audio_features)\n",
        "    if features.shape != (4, EXPECTED_FEATURE_LENGTH):\n",
        "        print(f\"Unexpected shape for {path}: {features.shape}\")\n",
        "        return np.zeros((4, EXPECTED_FEATURE_LENGTH))\n",
        "    return features\n",
        "\n",
        "import timeit\n",
        "\n",
        "start = timeit.default_timer()\n",
        "X, Y = [], []\n",
        "\n",
        "# Iterate over extracted file paths and labels\n",
        "for index, (path, emotion) in tqdm(enumerate(zip(file_list, label_list)), total=len(file_list)):\n",
        "    features = get_features(path)\n",
        "    if features.shape != (4, EXPECTED_FEATURE_LENGTH):\n",
        "        print(f\"Skipping {path} due to incorrect feature shape: {features.shape}\")\n",
        "        continue\n",
        "\n",
        "    X.extend(features)\n",
        "    Y.extend([emotion] * len(features))  # Should be 4 labels per file\n",
        "\n",
        "    if index % 500 == 0:\n",
        "        print(f'{index} audio files have been processed')\n",
        "\n",
        "# Verify lengths before creating DataFrame\n",
        "print(f\"Length of X: {len(X)}, Length of Y: {len(Y)}\")\n",
        "if len(X) != len(Y):\n",
        "    raise ValueError(\"Mismatch between X and Y lengths\")\n",
        "\n",
        "# Convert to numpy array for consistency\n",
        "X = np.array(X)\n",
        "print(f\"X shape: {X.shape}\")\n",
        "\n",
        "# Create DataFrame\n",
        "df = pd.DataFrame(X)\n",
        "df['Emotions'] = Y\n",
        "print(f\"DataFrame shape: {df.shape}\")\n",
        "print(df.head())\n",
        "\n",
        "# Save to CSV\n",
        "df.to_csv('audio_features.csv', index=False)\n",
        "\n",
        "stop = timeit.default_timer()\n",
        "print('Time: ', stop - start)"
      ],
      "metadata": {
        "colab": {
          "base_uri": "https://localhost:8080/"
        },
        "id": "gUXOyA9RXydj",
        "outputId": "8f084221-0b03-4973-9ccd-0a0692ffca34"
      },
      "execution_count": null,
      "outputs": [
        {
          "output_type": "stream",
          "name": "stderr",
          "text": [
            "  0%|          | 3/7442 [00:01<55:38,  2.23it/s]  "
          ]
        },
        {
          "output_type": "stream",
          "name": "stdout",
          "text": [
            "0 audio files have been processed\n"
          ]
        },
        {
          "output_type": "stream",
          "name": "stderr",
          "text": [
            "  7%|▋         | 502/7442 [00:53<10:34, 10.94it/s]"
          ]
        },
        {
          "output_type": "stream",
          "name": "stdout",
          "text": [
            "500 audio files have been processed\n"
          ]
        },
        {
          "output_type": "stream",
          "name": "stderr",
          "text": [
            " 13%|█▎        | 1003/7442 [01:51<09:42, 11.06it/s]"
          ]
        },
        {
          "output_type": "stream",
          "name": "stdout",
          "text": [
            "1000 audio files have been processed\n"
          ]
        },
        {
          "output_type": "stream",
          "name": "stderr",
          "text": [
            " 20%|██        | 1502/7442 [02:43<09:26, 10.48it/s]"
          ]
        },
        {
          "output_type": "stream",
          "name": "stdout",
          "text": [
            "1500 audio files have been processed\n"
          ]
        },
        {
          "output_type": "stream",
          "name": "stderr",
          "text": [
            " 27%|██▋       | 2003/7442 [03:36<08:41, 10.44it/s]"
          ]
        },
        {
          "output_type": "stream",
          "name": "stdout",
          "text": [
            "2000 audio files have been processed\n"
          ]
        },
        {
          "output_type": "stream",
          "name": "stderr",
          "text": [
            " 34%|███▎      | 2503/7442 [04:28<07:40, 10.72it/s]"
          ]
        },
        {
          "output_type": "stream",
          "name": "stdout",
          "text": [
            "2500 audio files have been processed\n"
          ]
        },
        {
          "output_type": "stream",
          "name": "stderr",
          "text": [
            " 40%|████      | 3003/7442 [05:19<06:37, 11.18it/s]"
          ]
        },
        {
          "output_type": "stream",
          "name": "stdout",
          "text": [
            "3000 audio files have been processed\n"
          ]
        },
        {
          "output_type": "stream",
          "name": "stderr",
          "text": [
            " 47%|████▋     | 3502/7442 [06:10<05:41, 11.53it/s]"
          ]
        },
        {
          "output_type": "stream",
          "name": "stdout",
          "text": [
            "3500 audio files have been processed\n"
          ]
        },
        {
          "output_type": "stream",
          "name": "stderr",
          "text": [
            " 54%|█████▍    | 4003/7442 [07:02<05:12, 11.02it/s]"
          ]
        },
        {
          "output_type": "stream",
          "name": "stdout",
          "text": [
            "4000 audio files have been processed\n"
          ]
        },
        {
          "output_type": "stream",
          "name": "stderr",
          "text": [
            " 61%|██████    | 4503/7442 [07:54<04:27, 11.00it/s]"
          ]
        },
        {
          "output_type": "stream",
          "name": "stdout",
          "text": [
            "4500 audio files have been processed\n"
          ]
        },
        {
          "output_type": "stream",
          "name": "stderr",
          "text": [
            " 67%|██████▋   | 5003/7442 [08:45<03:45, 10.79it/s]"
          ]
        },
        {
          "output_type": "stream",
          "name": "stdout",
          "text": [
            "5000 audio files have been processed\n"
          ]
        },
        {
          "output_type": "stream",
          "name": "stderr",
          "text": [
            " 74%|███████▍  | 5503/7442 [09:38<02:56, 11.01it/s]"
          ]
        },
        {
          "output_type": "stream",
          "name": "stdout",
          "text": [
            "5500 audio files have been processed\n"
          ]
        },
        {
          "output_type": "stream",
          "name": "stderr",
          "text": [
            " 81%|████████  | 6003/7442 [10:31<02:15, 10.65it/s]"
          ]
        },
        {
          "output_type": "stream",
          "name": "stdout",
          "text": [
            "6000 audio files have been processed\n"
          ]
        },
        {
          "output_type": "stream",
          "name": "stderr",
          "text": [
            " 87%|████████▋ | 6503/7442 [11:25<01:27, 10.71it/s]"
          ]
        },
        {
          "output_type": "stream",
          "name": "stdout",
          "text": [
            "6500 audio files have been processed\n"
          ]
        },
        {
          "output_type": "stream",
          "name": "stderr",
          "text": [
            " 94%|█████████▍| 7002/7442 [12:18<00:41, 10.61it/s]"
          ]
        },
        {
          "output_type": "stream",
          "name": "stdout",
          "text": [
            "7000 audio files have been processed\n"
          ]
        },
        {
          "output_type": "stream",
          "name": "stderr",
          "text": [
            "100%|██████████| 7442/7442 [13:06<00:00,  9.46it/s]\n"
          ]
        },
        {
          "output_type": "stream",
          "name": "stdout",
          "text": [
            "Length of X: 29768, Length of Y: 29768\n",
            "X shape: (29768, 2288)\n",
            "DataFrame shape: (29768, 2289)\n",
            "          0         1         2         3         4         5         6  \\\n",
            "0  0.021973  0.030762  0.041504  0.043457  0.041504  0.041504  0.035645   \n",
            "1  0.087891  0.107422  0.123047  0.116211  0.104004  0.122559  0.130371   \n",
            "2  0.020996  0.033203  0.048340  0.046875  0.049805  0.042480  0.033203   \n",
            "3  0.020996  0.033203  0.048340  0.046875  0.050781  0.043457  0.034180   \n",
            "4  0.018555  0.026855  0.031738  0.034180  0.033203  0.035645  0.039062   \n",
            "\n",
            "          7         8         9  ...      2279      2280      2281      2282  \\\n",
            "0  0.031738  0.033203  0.034180  ...  0.000000  0.000000  0.000000  0.000000   \n",
            "1  0.125000  0.120117  0.100098  ... -2.105485 -0.397064 -3.608072 -2.941532   \n",
            "2  0.031738  0.025391  0.029297  ...  0.000000  0.000000  0.000000  0.000000   \n",
            "3  0.032715  0.026367  0.030273  ... -2.415508 -1.953727 -1.759788  1.486136   \n",
            "4  0.037598  0.033203  0.030273  ... -1.367447 -3.629364  5.376383  1.364531   \n",
            "\n",
            "       2283      2284       2285       2286      2287  Emotions  \n",
            "0  0.000000  0.000000   0.000000   0.000000  0.000000         2  \n",
            "1  0.336939  2.160761  -2.359822   0.534200 -0.289787         2  \n",
            "2  0.000000  0.000000   0.000000   0.000000  0.000000         2  \n",
            "3  4.358162  1.865609  -2.579196  -3.679297  1.475771         2  \n",
            "4 -6.874673  5.087738 -19.446060 -14.091187  3.369340         2  \n",
            "\n",
            "[5 rows x 2289 columns]\n",
            "Time:  888.8970384400001\n"
          ]
        }
      ]
    },
    {
      "cell_type": "code",
      "execution_count": null,
      "metadata": {
        "colab": {
          "base_uri": "https://localhost:8080/"
        },
        "id": "EmJQT0tyTgv9",
        "outputId": "93146838-0f00-424f-e4a6-e23f8ae76f64"
      },
      "outputs": [
        {
          "output_type": "stream",
          "name": "stdout",
          "text": [
            "PyTorch Version: 2.6.0+cu124\n"
          ]
        }
      ],
      "source": [
        "import os\n",
        "import numpy as np\n",
        "import torch\n",
        "import torch.nn as nn\n",
        "import torch.optim as optim\n",
        "import pandas as pd\n",
        "from torch.utils.data import Dataset, DataLoader\n",
        "from sklearn.model_selection import train_test_split\n",
        "from sklearn.metrics import accuracy_score, classification_report, confusion_matrix\n",
        "import matplotlib.pyplot as plt\n",
        "from tqdm import tqdm\n",
        "\n",
        "# Check PyTorch version for debugging\n",
        "print(f\"PyTorch Version: {torch.__version__}\")\n",
        "\n",
        "# Set device\n",
        "device = torch.device(\"cuda\" if torch.cuda.is_available() else \"cpu\")"
      ]
    },
    {
      "cell_type": "code",
      "execution_count": null,
      "metadata": {
        "id": "PRqWMrItTgwH"
      },
      "outputs": [],
      "source": [
        "# Hyperparameters\n",
        "batch_size = 64\n",
        "num_epochs = 100\n",
        "learning_rate = 0.001\n",
        "weight_decay = 1e-4\n",
        "\n",
        "# Custom Dataset class with error handling\n",
        "class FeatureDataset(Dataset):\n",
        "    def __init__(self, X, y):\n",
        "        try:\n",
        "            self.X = torch.tensor(X, dtype=torch.float32)\n",
        "            self.y = torch.tensor(y, dtype=torch.long)\n",
        "        except Exception as e:\n",
        "            print(f\"Error initializing dataset: {e}\")\n",
        "            raise\n",
        "\n",
        "    def __len__(self):\n",
        "        return len(self.y)\n",
        "\n",
        "    def __getitem__(self, idx):\n",
        "        try:\n",
        "            return self.X[idx], self.y[idx]\n",
        "        except Exception as e:\n",
        "            print(f\"Error fetching item at index {idx}: {e}\")\n",
        "            raise"
      ]
    },
    {
      "cell_type": "code",
      "execution_count": null,
      "metadata": {
        "id": "gCB0ZlmkTgwJ"
      },
      "outputs": [],
      "source": [
        "# Define the Hybrid CNN-LSTM Classifier\n",
        "class HybridCNNLSTMClassifier(nn.Module):\n",
        "    def __init__(self, input_length, num_classes):\n",
        "        super(HybridCNNLSTMClassifier, self).__init__()\n",
        "        # CNN Blocks\n",
        "        self.block1 = nn.Sequential(\n",
        "            nn.Conv1d(in_channels=1, out_channels=64, kernel_size=5, stride=1, padding=2),\n",
        "            nn.BatchNorm1d(64),\n",
        "            nn.ReLU(),\n",
        "            nn.MaxPool1d(kernel_size=5, stride=2, padding=2)\n",
        "        )\n",
        "        self.block2 = nn.Sequential(\n",
        "            nn.Conv1d(in_channels=64, out_channels=128, kernel_size=5, stride=1, padding=2),\n",
        "            nn.BatchNorm1d(128),\n",
        "            nn.ReLU(),\n",
        "            nn.MaxPool1d(kernel_size=5, stride=2, padding=2),\n",
        "            nn.Dropout(0.3)\n",
        "        )\n",
        "        self.block3 = nn.Sequential(\n",
        "            nn.Conv1d(in_channels=128, out_channels=256, kernel_size=5, stride=1, padding=2),\n",
        "            nn.BatchNorm1d(256),\n",
        "            nn.ReLU(),\n",
        "            nn.MaxPool1d(kernel_size=5, stride=2, padding=2)\n",
        "        )\n",
        "        self.block4 = nn.Sequential(\n",
        "            nn.Conv1d(in_channels=256, out_channels=128, kernel_size=3, stride=1, padding=1),\n",
        "            nn.BatchNorm1d(128),\n",
        "            nn.ReLU(),\n",
        "            nn.MaxPool1d(kernel_size=5, stride=2, padding=2),\n",
        "            nn.Dropout(0.3)\n",
        "        )\n",
        "\n",
        "        # Compute the output size after CNN blocks\n",
        "        self._lstm_input_size = None\n",
        "        self.eval()  # Switch to evaluation mode\n",
        "        with torch.no_grad():\n",
        "            dummy_input = torch.zeros(1, 1, input_length)\n",
        "            x = self.convs(dummy_input)\n",
        "            x = x.transpose(1, 2)  # Shape: (batch, seq_len, channels)\n",
        "            self._lstm_input_size = x.size(2)  # Number of channels (features) for LSTM\n",
        "        self.train()  # Switch back to training mode\n",
        "\n",
        "        # LSTM Layer\n",
        "        self.lstm = nn.LSTM(\n",
        "            input_size=self._lstm_input_size,\n",
        "            hidden_size=128,\n",
        "            num_layers=2,\n",
        "            batch_first=True,\n",
        "            dropout=0.3\n",
        "        )\n",
        "\n",
        "        # Fully connected layers\n",
        "        self.fc = nn.Sequential(\n",
        "            nn.Linear(128, 512),\n",
        "            nn.BatchNorm1d(512),\n",
        "            nn.ReLU(),\n",
        "            nn.Dropout(0.3),\n",
        "            nn.Linear(512, num_classes)\n",
        "        )\n",
        "\n",
        "    def convs(self, x):\n",
        "        x = self.block1(x)\n",
        "        x = self.block2(x)\n",
        "        x = self.block3(x)\n",
        "        x = self.block4(x)\n",
        "        return x\n",
        "\n",
        "    def forward(self, x):\n",
        "        x = self.convs(x)\n",
        "        x = x.transpose(1, 2)\n",
        "        lstm_out, (hn, cn) = self.lstm(x)\n",
        "        lstm_out = lstm_out[:, -1, :]\n",
        "        x = self.fc(lstm_out)\n",
        "        return x"
      ]
    },
    {
      "cell_type": "code",
      "execution_count": null,
      "metadata": {
        "id": "BXYEp25nTgwL"
      },
      "outputs": [],
      "source": [
        "# Training function without early stopping\n",
        "def train_model(model, train_loader, val_loader, test_loader, criterion, optimizer, scheduler, num_epochs):\n",
        "    best_val_loss = np.inf\n",
        "    best_val_acc = 0.0\n",
        "    train_losses = []\n",
        "    val_losses = []\n",
        "    test_losses = []\n",
        "    train_accs = []\n",
        "    val_accs = []\n",
        "    test_accs = []\n",
        "\n",
        "    for epoch in range(num_epochs):\n",
        "        model.train()\n",
        "        running_loss = 0.0\n",
        "        train_preds = []\n",
        "        train_targets = []\n",
        "        for X_batch, y_batch in tqdm(train_loader, desc=f\"Epoch {epoch+1}/{num_epochs} - Training\", leave=False):\n",
        "            X_batch, y_batch = X_batch.to(device), y_batch.to(device)\n",
        "            optimizer.zero_grad()\n",
        "            outputs = model(X_batch)\n",
        "            loss = criterion(outputs, y_batch)\n",
        "            loss.backward()\n",
        "            optimizer.step()\n",
        "\n",
        "            running_loss += loss.item() * X_batch.size(0)\n",
        "            preds = torch.argmax(outputs, dim=1)\n",
        "            train_preds.extend(preds.cpu().numpy())\n",
        "            train_targets.extend(y_batch.cpu().numpy())\n",
        "\n",
        "        train_loss = running_loss / len(train_loader.dataset)\n",
        "        train_acc = accuracy_score(train_targets, train_preds)\n",
        "        train_losses.append(train_loss)\n",
        "        train_accs.append(train_acc)\n",
        "\n",
        "        model.eval()\n",
        "        val_running_loss = 0.0\n",
        "        val_preds = []\n",
        "        val_targets = []\n",
        "        with torch.no_grad():\n",
        "            for X_batch, y_batch in tqdm(val_loader, desc=f\"Epoch {epoch+1}/{num_epochs} - Validation\", leave=False):\n",
        "                X_batch, y_batch = X_batch.to(device), y_batch.to(device)\n",
        "                outputs = model(X_batch)\n",
        "                loss = criterion(outputs, y_batch)\n",
        "                val_running_loss += loss.item() * X_batch.size(0)\n",
        "                preds = torch.argmax(outputs, dim=1)\n",
        "                val_preds.extend(preds.cpu().numpy())\n",
        "                val_targets.extend(y_batch.cpu().numpy())\n",
        "\n",
        "        val_loss = val_running_loss / len(val_loader.dataset)\n",
        "        val_acc = accuracy_score(val_targets, val_preds)\n",
        "        val_losses.append(val_loss)\n",
        "        val_accs.append(val_acc)\n",
        "\n",
        "        test_running_loss = 0.0\n",
        "        test_preds = []\n",
        "        test_targets = []\n",
        "        with torch.no_grad():\n",
        "            for X_batch, y_batch in tqdm(test_loader, desc=f\"Epoch {epoch+1}/{num_epochs} - Testing\", leave=False):\n",
        "                X_batch, y_batch = X_batch.to(device), y_batch.to(device)\n",
        "                outputs = model(X_batch)\n",
        "                loss = criterion(outputs, y_batch)\n",
        "                test_running_loss += loss.item() * X_batch.size(0)\n",
        "                preds = torch.argmax(outputs, dim=1)\n",
        "                test_preds.extend(preds.cpu().numpy())\n",
        "                test_targets.extend(y_batch.cpu().numpy())\n",
        "\n",
        "        test_loss = test_running_loss / len(test_loader.dataset)\n",
        "        test_acc = accuracy_score(test_targets, test_preds)\n",
        "        test_losses.append(test_loss)\n",
        "        test_accs.append(test_acc)\n",
        "\n",
        "        scheduler.step(val_loss)\n",
        "        print(f\"Epoch {epoch+1}/{num_epochs} - Train Loss: {train_loss:.4f}, Train Acc: {train_acc:.4f} | Val Loss: {val_loss:.4f}, Val Acc: {val_acc:.4f} | Test Loss: {test_loss:.4f}, Test Acc: {test_acc:.4f}\")\n",
        "\n",
        "        if val_loss < best_val_loss:\n",
        "            best_val_loss = val_loss\n",
        "            best_val_acc = val_acc\n",
        "            torch.save(model.state_dict(), \"best_model.pth\")\n",
        "\n",
        "    return train_losses, val_losses, test_losses, train_accs, val_accs, test_accs, best_val_acc"
      ]
    },
    {
      "cell_type": "code",
      "execution_count": null,
      "metadata": {
        "colab": {
          "base_uri": "https://localhost:8080/"
        },
        "id": "ZUHftwetTgwM",
        "outputId": "3f69719c-6ebf-45f6-a8b3-064fdfb4241f"
      },
      "outputs": [
        {
          "output_type": "stream",
          "name": "stdout",
          "text": [
            "Using device: cuda\n",
            "Loaded features shape: (29768, 2288)\n",
            "Loaded labels shape: (29768,)\n"
          ]
        }
      ],
      "source": [
        "# Execution code (no main function guard)\n",
        "print(f\"Using device: {device}\")\n",
        "\n",
        "# Load CSV\n",
        "df = pd.read_csv(\"audio_features.csv\")\n",
        "df = df.fillna(0)\n",
        "\n",
        "# Extract features and labels\n",
        "features = df.iloc[:, :-1].values\n",
        "labels = df['Emotions'].values\n",
        "\n",
        "# Verify shapes\n",
        "print(f\"Loaded features shape: {features.shape}\")\n",
        "print(f\"Loaded labels shape: {labels.shape}\")"
      ]
    },
    {
      "cell_type": "code",
      "execution_count": null,
      "metadata": {
        "colab": {
          "base_uri": "https://localhost:8080/"
        },
        "id": "tcd195l4TgwN",
        "outputId": "17fbf7d5-891c-4a06-e4ca-a7e45861e437"
      },
      "outputs": [
        {
          "output_type": "stream",
          "name": "stdout",
          "text": [
            "Train: (20837, 2288), Val: (4465, 2288), Test: (4466, 2288)\n"
          ]
        }
      ],
      "source": [
        "\n",
        "# Split data\n",
        "X_train, X_temp, y_train, y_temp = train_test_split(features, labels, test_size=0.3, random_state=42, stratify=labels)\n",
        "X_val, X_test, y_val, y_test = train_test_split(X_temp, y_temp, test_size=0.5, random_state=42, stratify=y_temp)\n",
        "print(f\"Train: {X_train.shape}, Val: {X_val.shape}, Test: {X_test.shape}\")"
      ]
    },
    {
      "cell_type": "code",
      "execution_count": null,
      "metadata": {
        "colab": {
          "base_uri": "https://localhost:8080/"
        },
        "id": "S1rXJkxOTgwO",
        "outputId": "eda9302b-df1a-4b12-b5c0-16ceffccc7dd"
      },
      "outputs": [
        {
          "output_type": "stream",
          "name": "stderr",
          "text": [
            "/usr/local/lib/python3.11/dist-packages/torch/optim/lr_scheduler.py:62: UserWarning: The verbose parameter is deprecated. Please use get_last_lr() to access the learning rate.\n",
            "  warnings.warn(\n"
          ]
        },
        {
          "output_type": "stream",
          "name": "stdout",
          "text": [
            "Epoch 1/100 - Train Loss: 1.7147, Train Acc: 0.2663 | Val Loss: 1.6947, Val Acc: 0.2701 | Test Loss: 1.7084, Test Acc: 0.2640\n"
          ]
        },
        {
          "output_type": "stream",
          "name": "stderr",
          "text": []
        },
        {
          "output_type": "stream",
          "name": "stdout",
          "text": [
            "Epoch 2/100 - Train Loss: 1.6752, Train Acc: 0.2937 | Val Loss: 1.6609, Val Acc: 0.2757 | Test Loss: 1.6561, Test Acc: 0.2895\n"
          ]
        },
        {
          "output_type": "stream",
          "name": "stderr",
          "text": []
        },
        {
          "output_type": "stream",
          "name": "stdout",
          "text": [
            "Epoch 3/100 - Train Loss: 1.5751, Train Acc: 0.3405 | Val Loss: 1.5964, Val Acc: 0.3122 | Test Loss: 1.5853, Test Acc: 0.3184\n"
          ]
        },
        {
          "output_type": "stream",
          "name": "stderr",
          "text": []
        },
        {
          "output_type": "stream",
          "name": "stdout",
          "text": [
            "Epoch 4/100 - Train Loss: 1.4785, Train Acc: 0.3914 | Val Loss: 1.4802, Val Acc: 0.3919 | Test Loss: 1.4797, Test Acc: 0.3836\n"
          ]
        },
        {
          "output_type": "stream",
          "name": "stderr",
          "text": []
        },
        {
          "output_type": "stream",
          "name": "stdout",
          "text": [
            "Epoch 5/100 - Train Loss: 1.4435, Train Acc: 0.4101 | Val Loss: 1.4468, Val Acc: 0.4056 | Test Loss: 1.4400, Test Acc: 0.4116\n"
          ]
        },
        {
          "output_type": "stream",
          "name": "stderr",
          "text": []
        },
        {
          "output_type": "stream",
          "name": "stdout",
          "text": [
            "Epoch 6/100 - Train Loss: 1.4052, Train Acc: 0.4277 | Val Loss: 1.4197, Val Acc: 0.4309 | Test Loss: 1.4195, Test Acc: 0.4324\n"
          ]
        },
        {
          "output_type": "stream",
          "name": "stderr",
          "text": []
        },
        {
          "output_type": "stream",
          "name": "stdout",
          "text": [
            "Epoch 7/100 - Train Loss: 1.3840, Train Acc: 0.4386 | Val Loss: 1.4086, Val Acc: 0.4262 | Test Loss: 1.4098, Test Acc: 0.4384\n"
          ]
        },
        {
          "output_type": "stream",
          "name": "stderr",
          "text": []
        },
        {
          "output_type": "stream",
          "name": "stdout",
          "text": [
            "Epoch 8/100 - Train Loss: 1.3619, Train Acc: 0.4462 | Val Loss: 1.6076, Val Acc: 0.3523 | Test Loss: 1.5977, Test Acc: 0.3594\n"
          ]
        },
        {
          "output_type": "stream",
          "name": "stderr",
          "text": []
        },
        {
          "output_type": "stream",
          "name": "stdout",
          "text": [
            "Epoch 9/100 - Train Loss: 1.3443, Train Acc: 0.4576 | Val Loss: 1.4561, Val Acc: 0.4090 | Test Loss: 1.4632, Test Acc: 0.4082\n"
          ]
        },
        {
          "output_type": "stream",
          "name": "stderr",
          "text": []
        },
        {
          "output_type": "stream",
          "name": "stdout",
          "text": [
            "Epoch 10/100 - Train Loss: 1.3107, Train Acc: 0.4753 | Val Loss: 1.3309, Val Acc: 0.4649 | Test Loss: 1.3265, Test Acc: 0.4734\n"
          ]
        },
        {
          "output_type": "stream",
          "name": "stderr",
          "text": []
        },
        {
          "output_type": "stream",
          "name": "stdout",
          "text": [
            "Epoch 11/100 - Train Loss: 1.2611, Train Acc: 0.4984 | Val Loss: 1.2831, Val Acc: 0.4907 | Test Loss: 1.2721, Test Acc: 0.4924\n"
          ]
        },
        {
          "output_type": "stream",
          "name": "stderr",
          "text": []
        },
        {
          "output_type": "stream",
          "name": "stdout",
          "text": [
            "Epoch 12/100 - Train Loss: 1.2246, Train Acc: 0.5158 | Val Loss: 1.7384, Val Acc: 0.3422 | Test Loss: 1.7364, Test Acc: 0.3392\n"
          ]
        },
        {
          "output_type": "stream",
          "name": "stderr",
          "text": []
        },
        {
          "output_type": "stream",
          "name": "stdout",
          "text": [
            "Epoch 13/100 - Train Loss: 1.2007, Train Acc: 0.5306 | Val Loss: 1.2979, Val Acc: 0.4717 | Test Loss: 1.2990, Test Acc: 0.4734\n"
          ]
        },
        {
          "output_type": "stream",
          "name": "stderr",
          "text": []
        },
        {
          "output_type": "stream",
          "name": "stdout",
          "text": [
            "Epoch 14/100 - Train Loss: 1.1737, Train Acc: 0.5404 | Val Loss: 1.1828, Val Acc: 0.5353 | Test Loss: 1.1834, Test Acc: 0.5390\n"
          ]
        },
        {
          "output_type": "stream",
          "name": "stderr",
          "text": []
        },
        {
          "output_type": "stream",
          "name": "stdout",
          "text": [
            "Epoch 15/100 - Train Loss: 1.1513, Train Acc: 0.5505 | Val Loss: 1.1343, Val Acc: 0.5559 | Test Loss: 1.1396, Test Acc: 0.5575\n"
          ]
        },
        {
          "output_type": "stream",
          "name": "stderr",
          "text": []
        },
        {
          "output_type": "stream",
          "name": "stdout",
          "text": [
            "Epoch 16/100 - Train Loss: 1.1278, Train Acc: 0.5606 | Val Loss: 1.1512, Val Acc: 0.5467 | Test Loss: 1.1474, Test Acc: 0.5567\n"
          ]
        },
        {
          "output_type": "stream",
          "name": "stderr",
          "text": []
        },
        {
          "output_type": "stream",
          "name": "stdout",
          "text": [
            "Epoch 17/100 - Train Loss: 1.1083, Train Acc: 0.5709 | Val Loss: 1.1180, Val Acc: 0.5608 | Test Loss: 1.1194, Test Acc: 0.5634\n"
          ]
        },
        {
          "output_type": "stream",
          "name": "stderr",
          "text": []
        },
        {
          "output_type": "stream",
          "name": "stdout",
          "text": [
            "Epoch 18/100 - Train Loss: 1.0837, Train Acc: 0.5754 | Val Loss: 1.2408, Val Acc: 0.4974 | Test Loss: 1.2382, Test Acc: 0.4982\n"
          ]
        },
        {
          "output_type": "stream",
          "name": "stderr",
          "text": []
        },
        {
          "output_type": "stream",
          "name": "stdout",
          "text": [
            "Epoch 19/100 - Train Loss: 1.0572, Train Acc: 0.5890 | Val Loss: 1.1520, Val Acc: 0.5586 | Test Loss: 1.1536, Test Acc: 0.5647\n"
          ]
        },
        {
          "output_type": "stream",
          "name": "stderr",
          "text": []
        },
        {
          "output_type": "stream",
          "name": "stdout",
          "text": [
            "Epoch 20/100 - Train Loss: 1.0406, Train Acc: 0.5963 | Val Loss: 1.1579, Val Acc: 0.5769 | Test Loss: 1.1474, Test Acc: 0.5775\n"
          ]
        },
        {
          "output_type": "stream",
          "name": "stderr",
          "text": []
        },
        {
          "output_type": "stream",
          "name": "stdout",
          "text": [
            "Epoch 21/100 - Train Loss: 1.0196, Train Acc: 0.6023 | Val Loss: 1.0499, Val Acc: 0.5904 | Test Loss: 1.0531, Test Acc: 0.5943\n"
          ]
        },
        {
          "output_type": "stream",
          "name": "stderr",
          "text": []
        },
        {
          "output_type": "stream",
          "name": "stdout",
          "text": [
            "Epoch 22/100 - Train Loss: 0.9936, Train Acc: 0.6157 | Val Loss: 1.0820, Val Acc: 0.5787 | Test Loss: 1.0702, Test Acc: 0.5842\n"
          ]
        },
        {
          "output_type": "stream",
          "name": "stderr",
          "text": []
        },
        {
          "output_type": "stream",
          "name": "stdout",
          "text": [
            "Epoch 23/100 - Train Loss: 0.9662, Train Acc: 0.6302 | Val Loss: 1.0897, Val Acc: 0.5828 | Test Loss: 1.0816, Test Acc: 0.5853\n"
          ]
        },
        {
          "output_type": "stream",
          "name": "stderr",
          "text": []
        },
        {
          "output_type": "stream",
          "name": "stdout",
          "text": [
            "Epoch 24/100 - Train Loss: 0.9472, Train Acc: 0.6363 | Val Loss: 1.0127, Val Acc: 0.6094 | Test Loss: 1.0105, Test Acc: 0.6124\n"
          ]
        },
        {
          "output_type": "stream",
          "name": "stderr",
          "text": []
        },
        {
          "output_type": "stream",
          "name": "stdout",
          "text": [
            "Epoch 25/100 - Train Loss: 0.9173, Train Acc: 0.6500 | Val Loss: 1.3142, Val Acc: 0.5151 | Test Loss: 1.3077, Test Acc: 0.5132\n"
          ]
        },
        {
          "output_type": "stream",
          "name": "stderr",
          "text": []
        },
        {
          "output_type": "stream",
          "name": "stdout",
          "text": [
            "Epoch 26/100 - Train Loss: 0.8983, Train Acc: 0.6548 | Val Loss: 1.2292, Val Acc: 0.5469 | Test Loss: 1.2455, Test Acc: 0.5378\n"
          ]
        },
        {
          "output_type": "stream",
          "name": "stderr",
          "text": []
        },
        {
          "output_type": "stream",
          "name": "stdout",
          "text": [
            "Epoch 27/100 - Train Loss: 0.8729, Train Acc: 0.6682 | Val Loss: 0.9739, Val Acc: 0.6262 | Test Loss: 0.9673, Test Acc: 0.6305\n"
          ]
        },
        {
          "output_type": "stream",
          "name": "stderr",
          "text": []
        },
        {
          "output_type": "stream",
          "name": "stdout",
          "text": [
            "Epoch 28/100 - Train Loss: 0.8468, Train Acc: 0.6762 | Val Loss: 1.0922, Val Acc: 0.5812 | Test Loss: 1.0781, Test Acc: 0.5784\n"
          ]
        },
        {
          "output_type": "stream",
          "name": "stderr",
          "text": []
        },
        {
          "output_type": "stream",
          "name": "stdout",
          "text": [
            "Epoch 29/100 - Train Loss: 0.8278, Train Acc: 0.6862 | Val Loss: 0.9351, Val Acc: 0.6475 | Test Loss: 0.9444, Test Acc: 0.6442\n"
          ]
        },
        {
          "output_type": "stream",
          "name": "stderr",
          "text": []
        },
        {
          "output_type": "stream",
          "name": "stdout",
          "text": [
            "Epoch 30/100 - Train Loss: 0.8041, Train Acc: 0.6922 | Val Loss: 0.9656, Val Acc: 0.6329 | Test Loss: 0.9584, Test Acc: 0.6348\n"
          ]
        },
        {
          "output_type": "stream",
          "name": "stderr",
          "text": []
        },
        {
          "output_type": "stream",
          "name": "stdout",
          "text": [
            "Epoch 31/100 - Train Loss: 0.7699, Train Acc: 0.7084 | Val Loss: 1.0072, Val Acc: 0.6157 | Test Loss: 1.0080, Test Acc: 0.6093\n"
          ]
        },
        {
          "output_type": "stream",
          "name": "stderr",
          "text": []
        },
        {
          "output_type": "stream",
          "name": "stdout",
          "text": [
            "Epoch 32/100 - Train Loss: 0.7426, Train Acc: 0.7180 | Val Loss: 1.0291, Val Acc: 0.6099 | Test Loss: 1.0406, Test Acc: 0.5994\n"
          ]
        },
        {
          "output_type": "stream",
          "name": "stderr",
          "text": []
        },
        {
          "output_type": "stream",
          "name": "stdout",
          "text": [
            "Epoch 33/100 - Train Loss: 0.7233, Train Acc: 0.7300 | Val Loss: 0.8687, Val Acc: 0.6708 | Test Loss: 0.8630, Test Acc: 0.6823\n"
          ]
        },
        {
          "output_type": "stream",
          "name": "stderr",
          "text": []
        },
        {
          "output_type": "stream",
          "name": "stdout",
          "text": [
            "Epoch 34/100 - Train Loss: 0.6833, Train Acc: 0.7440 | Val Loss: 0.8689, Val Acc: 0.6867 | Test Loss: 0.8680, Test Acc: 0.6767\n"
          ]
        },
        {
          "output_type": "stream",
          "name": "stderr",
          "text": []
        },
        {
          "output_type": "stream",
          "name": "stdout",
          "text": [
            "Epoch 35/100 - Train Loss: 0.6647, Train Acc: 0.7510 | Val Loss: 1.0852, Val Acc: 0.6237 | Test Loss: 1.0865, Test Acc: 0.6296\n"
          ]
        },
        {
          "output_type": "stream",
          "name": "stderr",
          "text": []
        },
        {
          "output_type": "stream",
          "name": "stdout",
          "text": [
            "Epoch 36/100 - Train Loss: 0.6382, Train Acc: 0.7604 | Val Loss: 0.9189, Val Acc: 0.6748 | Test Loss: 0.9280, Test Acc: 0.6682\n"
          ]
        },
        {
          "output_type": "stream",
          "name": "stderr",
          "text": []
        },
        {
          "output_type": "stream",
          "name": "stdout",
          "text": [
            "Epoch 37/100 - Train Loss: 0.6187, Train Acc: 0.7694 | Val Loss: 1.0796, Val Acc: 0.6099 | Test Loss: 1.0900, Test Acc: 0.6019\n"
          ]
        },
        {
          "output_type": "stream",
          "name": "stderr",
          "text": []
        },
        {
          "output_type": "stream",
          "name": "stdout",
          "text": [
            "Epoch 38/100 - Train Loss: 0.5103, Train Acc: 0.8105 | Val Loss: 0.6995, Val Acc: 0.7422 | Test Loss: 0.7237, Test Acc: 0.7338\n"
          ]
        },
        {
          "output_type": "stream",
          "name": "stderr",
          "text": []
        },
        {
          "output_type": "stream",
          "name": "stdout",
          "text": [
            "Epoch 39/100 - Train Loss: 0.4794, Train Acc: 0.8237 | Val Loss: 0.6653, Val Acc: 0.7695 | Test Loss: 0.6654, Test Acc: 0.7680\n"
          ]
        },
        {
          "output_type": "stream",
          "name": "stderr",
          "text": []
        },
        {
          "output_type": "stream",
          "name": "stdout",
          "text": [
            "Epoch 40/100 - Train Loss: 0.4579, Train Acc: 0.8324 | Val Loss: 0.6613, Val Acc: 0.7666 | Test Loss: 0.6625, Test Acc: 0.7638\n"
          ]
        },
        {
          "output_type": "stream",
          "name": "stderr",
          "text": []
        },
        {
          "output_type": "stream",
          "name": "stdout",
          "text": [
            "Epoch 41/100 - Train Loss: 0.4338, Train Acc: 0.8402 | Val Loss: 0.6479, Val Acc: 0.7798 | Test Loss: 0.6598, Test Acc: 0.7667\n"
          ]
        },
        {
          "output_type": "stream",
          "name": "stderr",
          "text": []
        },
        {
          "output_type": "stream",
          "name": "stdout",
          "text": [
            "Epoch 42/100 - Train Loss: 0.4111, Train Acc: 0.8491 | Val Loss: 0.6242, Val Acc: 0.7781 | Test Loss: 0.6350, Test Acc: 0.7741\n"
          ]
        },
        {
          "output_type": "stream",
          "name": "stderr",
          "text": []
        },
        {
          "output_type": "stream",
          "name": "stdout",
          "text": [
            "Epoch 43/100 - Train Loss: 0.3959, Train Acc: 0.8561 | Val Loss: 0.6726, Val Acc: 0.7707 | Test Loss: 0.6744, Test Acc: 0.7624\n"
          ]
        },
        {
          "output_type": "stream",
          "name": "stderr",
          "text": []
        },
        {
          "output_type": "stream",
          "name": "stdout",
          "text": [
            "Epoch 44/100 - Train Loss: 0.3879, Train Acc: 0.8598 | Val Loss: 0.6277, Val Acc: 0.7767 | Test Loss: 0.6440, Test Acc: 0.7691\n"
          ]
        },
        {
          "output_type": "stream",
          "name": "stderr",
          "text": []
        },
        {
          "output_type": "stream",
          "name": "stdout",
          "text": [
            "Epoch 45/100 - Train Loss: 0.3700, Train Acc: 0.8641 | Val Loss: 0.6657, Val Acc: 0.7789 | Test Loss: 0.6734, Test Acc: 0.7763\n"
          ]
        },
        {
          "output_type": "stream",
          "name": "stderr",
          "text": []
        },
        {
          "output_type": "stream",
          "name": "stdout",
          "text": [
            "Epoch 46/100 - Train Loss: 0.3581, Train Acc: 0.8711 | Val Loss: 0.6271, Val Acc: 0.7810 | Test Loss: 0.6671, Test Acc: 0.7725\n"
          ]
        },
        {
          "output_type": "stream",
          "name": "stderr",
          "text": []
        },
        {
          "output_type": "stream",
          "name": "stdout",
          "text": [
            "Epoch 47/100 - Train Loss: 0.2884, Train Acc: 0.8960 | Val Loss: 0.4767, Val Acc: 0.8378 | Test Loss: 0.5011, Test Acc: 0.8307\n"
          ]
        },
        {
          "output_type": "stream",
          "name": "stderr",
          "text": []
        },
        {
          "output_type": "stream",
          "name": "stdout",
          "text": [
            "Epoch 48/100 - Train Loss: 0.2641, Train Acc: 0.9052 | Val Loss: 0.4834, Val Acc: 0.8367 | Test Loss: 0.5216, Test Acc: 0.8292\n"
          ]
        },
        {
          "output_type": "stream",
          "name": "stderr",
          "text": []
        },
        {
          "output_type": "stream",
          "name": "stdout",
          "text": [
            "Epoch 49/100 - Train Loss: 0.2625, Train Acc: 0.9063 | Val Loss: 0.4959, Val Acc: 0.8325 | Test Loss: 0.5315, Test Acc: 0.8298\n"
          ]
        },
        {
          "output_type": "stream",
          "name": "stderr",
          "text": []
        },
        {
          "output_type": "stream",
          "name": "stdout",
          "text": [
            "Epoch 50/100 - Train Loss: 0.2465, Train Acc: 0.9101 | Val Loss: 0.4800, Val Acc: 0.8452 | Test Loss: 0.4961, Test Acc: 0.8412\n"
          ]
        },
        {
          "output_type": "stream",
          "name": "stderr",
          "text": []
        },
        {
          "output_type": "stream",
          "name": "stdout",
          "text": [
            "Epoch 51/100 - Train Loss: 0.2365, Train Acc: 0.9142 | Val Loss: 0.4927, Val Acc: 0.8378 | Test Loss: 0.5060, Test Acc: 0.8397\n"
          ]
        },
        {
          "output_type": "stream",
          "name": "stderr",
          "text": []
        },
        {
          "output_type": "stream",
          "name": "stdout",
          "text": [
            "Epoch 52/100 - Train Loss: 0.2103, Train Acc: 0.9259 | Val Loss: 0.4347, Val Acc: 0.8567 | Test Loss: 0.4538, Test Acc: 0.8531\n"
          ]
        },
        {
          "output_type": "stream",
          "name": "stderr",
          "text": []
        },
        {
          "output_type": "stream",
          "name": "stdout",
          "text": [
            "Epoch 53/100 - Train Loss: 0.1970, Train Acc: 0.9302 | Val Loss: 0.4337, Val Acc: 0.8594 | Test Loss: 0.4480, Test Acc: 0.8592\n"
          ]
        },
        {
          "output_type": "stream",
          "name": "stderr",
          "text": []
        },
        {
          "output_type": "stream",
          "name": "stdout",
          "text": [
            "Epoch 54/100 - Train Loss: 0.1857, Train Acc: 0.9352 | Val Loss: 0.4223, Val Acc: 0.8643 | Test Loss: 0.4377, Test Acc: 0.8648\n"
          ]
        },
        {
          "output_type": "stream",
          "name": "stderr",
          "text": []
        },
        {
          "output_type": "stream",
          "name": "stdout",
          "text": [
            "Epoch 55/100 - Train Loss: 0.1875, Train Acc: 0.9336 | Val Loss: 0.4281, Val Acc: 0.8620 | Test Loss: 0.4440, Test Acc: 0.8607\n"
          ]
        },
        {
          "output_type": "stream",
          "name": "stderr",
          "text": []
        },
        {
          "output_type": "stream",
          "name": "stdout",
          "text": [
            "Epoch 56/100 - Train Loss: 0.1810, Train Acc: 0.9365 | Val Loss: 0.4109, Val Acc: 0.8717 | Test Loss: 0.4486, Test Acc: 0.8612\n"
          ]
        },
        {
          "output_type": "stream",
          "name": "stderr",
          "text": []
        },
        {
          "output_type": "stream",
          "name": "stdout",
          "text": [
            "Epoch 57/100 - Train Loss: 0.1693, Train Acc: 0.9414 | Val Loss: 0.4368, Val Acc: 0.8649 | Test Loss: 0.4568, Test Acc: 0.8632\n"
          ]
        },
        {
          "output_type": "stream",
          "name": "stderr",
          "text": []
        },
        {
          "output_type": "stream",
          "name": "stdout",
          "text": [
            "Epoch 58/100 - Train Loss: 0.1786, Train Acc: 0.9369 | Val Loss: 0.4118, Val Acc: 0.8741 | Test Loss: 0.4303, Test Acc: 0.8692\n"
          ]
        },
        {
          "output_type": "stream",
          "name": "stderr",
          "text": []
        },
        {
          "output_type": "stream",
          "name": "stdout",
          "text": [
            "Epoch 59/100 - Train Loss: 0.1745, Train Acc: 0.9369 | Val Loss: 0.4191, Val Acc: 0.8667 | Test Loss: 0.4459, Test Acc: 0.8592\n"
          ]
        },
        {
          "output_type": "stream",
          "name": "stderr",
          "text": []
        },
        {
          "output_type": "stream",
          "name": "stdout",
          "text": [
            "Epoch 60/100 - Train Loss: 0.1555, Train Acc: 0.9455 | Val Loss: 0.4314, Val Acc: 0.8728 | Test Loss: 0.4552, Test Acc: 0.8663\n"
          ]
        },
        {
          "output_type": "stream",
          "name": "stderr",
          "text": []
        },
        {
          "output_type": "stream",
          "name": "stdout",
          "text": [
            "Epoch 61/100 - Train Loss: 0.1533, Train Acc: 0.9473 | Val Loss: 0.4035, Val Acc: 0.8788 | Test Loss: 0.4371, Test Acc: 0.8690\n"
          ]
        },
        {
          "output_type": "stream",
          "name": "stderr",
          "text": []
        },
        {
          "output_type": "stream",
          "name": "stdout",
          "text": [
            "Epoch 62/100 - Train Loss: 0.1488, Train Acc: 0.9481 | Val Loss: 0.3974, Val Acc: 0.8757 | Test Loss: 0.4339, Test Acc: 0.8704\n"
          ]
        },
        {
          "output_type": "stream",
          "name": "stderr",
          "text": []
        },
        {
          "output_type": "stream",
          "name": "stdout",
          "text": [
            "Epoch 63/100 - Train Loss: 0.1418, Train Acc: 0.9509 | Val Loss: 0.3868, Val Acc: 0.8833 | Test Loss: 0.4197, Test Acc: 0.8771\n"
          ]
        },
        {
          "output_type": "stream",
          "name": "stderr",
          "text": []
        },
        {
          "output_type": "stream",
          "name": "stdout",
          "text": [
            "Epoch 64/100 - Train Loss: 0.1353, Train Acc: 0.9524 | Val Loss: 0.3969, Val Acc: 0.8764 | Test Loss: 0.4240, Test Acc: 0.8726\n"
          ]
        },
        {
          "output_type": "stream",
          "name": "stderr",
          "text": []
        },
        {
          "output_type": "stream",
          "name": "stdout",
          "text": [
            "Epoch 65/100 - Train Loss: 0.1384, Train Acc: 0.9509 | Val Loss: 0.3978, Val Acc: 0.8770 | Test Loss: 0.4237, Test Acc: 0.8733\n"
          ]
        },
        {
          "output_type": "stream",
          "name": "stderr",
          "text": []
        },
        {
          "output_type": "stream",
          "name": "stdout",
          "text": [
            "Epoch 66/100 - Train Loss: 0.1372, Train Acc: 0.9534 | Val Loss: 0.4036, Val Acc: 0.8784 | Test Loss: 0.4232, Test Acc: 0.8760\n"
          ]
        },
        {
          "output_type": "stream",
          "name": "stderr",
          "text": []
        },
        {
          "output_type": "stream",
          "name": "stdout",
          "text": [
            "Epoch 67/100 - Train Loss: 0.1344, Train Acc: 0.9517 | Val Loss: 0.3934, Val Acc: 0.8815 | Test Loss: 0.4163, Test Acc: 0.8717\n"
          ]
        },
        {
          "output_type": "stream",
          "name": "stderr",
          "text": []
        },
        {
          "output_type": "stream",
          "name": "stdout",
          "text": [
            "Epoch 68/100 - Train Loss: 0.1262, Train Acc: 0.9562 | Val Loss: 0.3889, Val Acc: 0.8824 | Test Loss: 0.4159, Test Acc: 0.8800\n"
          ]
        },
        {
          "output_type": "stream",
          "name": "stderr",
          "text": []
        },
        {
          "output_type": "stream",
          "name": "stdout",
          "text": [
            "Epoch 69/100 - Train Loss: 0.1239, Train Acc: 0.9581 | Val Loss: 0.3829, Val Acc: 0.8858 | Test Loss: 0.3983, Test Acc: 0.8845\n"
          ]
        },
        {
          "output_type": "stream",
          "name": "stderr",
          "text": []
        },
        {
          "output_type": "stream",
          "name": "stdout",
          "text": [
            "Epoch 70/100 - Train Loss: 0.1219, Train Acc: 0.9569 | Val Loss: 0.3869, Val Acc: 0.8840 | Test Loss: 0.4109, Test Acc: 0.8789\n"
          ]
        },
        {
          "output_type": "stream",
          "name": "stderr",
          "text": []
        },
        {
          "output_type": "stream",
          "name": "stdout",
          "text": [
            "Epoch 71/100 - Train Loss: 0.1144, Train Acc: 0.9618 | Val Loss: 0.3933, Val Acc: 0.8806 | Test Loss: 0.4185, Test Acc: 0.8786\n"
          ]
        },
        {
          "output_type": "stream",
          "name": "stderr",
          "text": []
        },
        {
          "output_type": "stream",
          "name": "stdout",
          "text": [
            "Epoch 72/100 - Train Loss: 0.1208, Train Acc: 0.9586 | Val Loss: 0.3834, Val Acc: 0.8826 | Test Loss: 0.4063, Test Acc: 0.8824\n"
          ]
        },
        {
          "output_type": "stream",
          "name": "stderr",
          "text": []
        },
        {
          "output_type": "stream",
          "name": "stdout",
          "text": [
            "Epoch 73/100 - Train Loss: 0.1175, Train Acc: 0.9593 | Val Loss: 0.3839, Val Acc: 0.8822 | Test Loss: 0.4039, Test Acc: 0.8860\n"
          ]
        },
        {
          "output_type": "stream",
          "name": "stderr",
          "text": []
        },
        {
          "output_type": "stream",
          "name": "stdout",
          "text": [
            "Epoch 74/100 - Train Loss: 0.1142, Train Acc: 0.9600 | Val Loss: 0.3840, Val Acc: 0.8847 | Test Loss: 0.4052, Test Acc: 0.8836\n"
          ]
        },
        {
          "output_type": "stream",
          "name": "stderr",
          "text": []
        },
        {
          "output_type": "stream",
          "name": "stdout",
          "text": [
            "Epoch 75/100 - Train Loss: 0.1094, Train Acc: 0.9624 | Val Loss: 0.3863, Val Acc: 0.8860 | Test Loss: 0.4068, Test Acc: 0.8827\n"
          ]
        },
        {
          "output_type": "stream",
          "name": "stderr",
          "text": []
        },
        {
          "output_type": "stream",
          "name": "stdout",
          "text": [
            "Epoch 76/100 - Train Loss: 0.1145, Train Acc: 0.9599 | Val Loss: 0.3746, Val Acc: 0.8885 | Test Loss: 0.3991, Test Acc: 0.8874\n"
          ]
        },
        {
          "output_type": "stream",
          "name": "stderr",
          "text": []
        },
        {
          "output_type": "stream",
          "name": "stdout",
          "text": [
            "Epoch 77/100 - Train Loss: 0.1076, Train Acc: 0.9616 | Val Loss: 0.3819, Val Acc: 0.8860 | Test Loss: 0.4104, Test Acc: 0.8809\n"
          ]
        },
        {
          "output_type": "stream",
          "name": "stderr",
          "text": []
        },
        {
          "output_type": "stream",
          "name": "stdout",
          "text": [
            "Epoch 78/100 - Train Loss: 0.1122, Train Acc: 0.9619 | Val Loss: 0.3823, Val Acc: 0.8880 | Test Loss: 0.4082, Test Acc: 0.8820\n"
          ]
        },
        {
          "output_type": "stream",
          "name": "stderr",
          "text": []
        },
        {
          "output_type": "stream",
          "name": "stdout",
          "text": [
            "Epoch 79/100 - Train Loss: 0.1087, Train Acc: 0.9628 | Val Loss: 0.3735, Val Acc: 0.8880 | Test Loss: 0.4010, Test Acc: 0.8851\n"
          ]
        },
        {
          "output_type": "stream",
          "name": "stderr",
          "text": []
        },
        {
          "output_type": "stream",
          "name": "stdout",
          "text": [
            "Epoch 80/100 - Train Loss: 0.1090, Train Acc: 0.9620 | Val Loss: 0.3778, Val Acc: 0.8871 | Test Loss: 0.4052, Test Acc: 0.8894\n"
          ]
        },
        {
          "output_type": "stream",
          "name": "stderr",
          "text": []
        },
        {
          "output_type": "stream",
          "name": "stdout",
          "text": [
            "Epoch 81/100 - Train Loss: 0.1083, Train Acc: 0.9624 | Val Loss: 0.3770, Val Acc: 0.8880 | Test Loss: 0.4071, Test Acc: 0.8869\n"
          ]
        },
        {
          "output_type": "stream",
          "name": "stderr",
          "text": []
        },
        {
          "output_type": "stream",
          "name": "stdout",
          "text": [
            "Epoch 82/100 - Train Loss: 0.1059, Train Acc: 0.9635 | Val Loss: 0.3794, Val Acc: 0.8873 | Test Loss: 0.4059, Test Acc: 0.8831\n"
          ]
        },
        {
          "output_type": "stream",
          "name": "stderr",
          "text": []
        },
        {
          "output_type": "stream",
          "name": "stdout",
          "text": [
            "Epoch 83/100 - Train Loss: 0.1065, Train Acc: 0.9636 | Val Loss: 0.3779, Val Acc: 0.8891 | Test Loss: 0.4062, Test Acc: 0.8856\n"
          ]
        },
        {
          "output_type": "stream",
          "name": "stderr",
          "text": []
        },
        {
          "output_type": "stream",
          "name": "stdout",
          "text": [
            "Epoch 84/100 - Train Loss: 0.1122, Train Acc: 0.9607 | Val Loss: 0.3839, Val Acc: 0.8869 | Test Loss: 0.4098, Test Acc: 0.8865\n"
          ]
        },
        {
          "output_type": "stream",
          "name": "stderr",
          "text": []
        },
        {
          "output_type": "stream",
          "name": "stdout",
          "text": [
            "Epoch 85/100 - Train Loss: 0.1071, Train Acc: 0.9625 | Val Loss: 0.3759, Val Acc: 0.8873 | Test Loss: 0.4034, Test Acc: 0.8885\n"
          ]
        },
        {
          "output_type": "stream",
          "name": "stderr",
          "text": []
        },
        {
          "output_type": "stream",
          "name": "stdout",
          "text": [
            "Epoch 86/100 - Train Loss: 0.1057, Train Acc: 0.9642 | Val Loss: 0.3730, Val Acc: 0.8900 | Test Loss: 0.3981, Test Acc: 0.8867\n"
          ]
        },
        {
          "output_type": "stream",
          "name": "stderr",
          "text": []
        },
        {
          "output_type": "stream",
          "name": "stdout",
          "text": [
            "Epoch 87/100 - Train Loss: 0.0988, Train Acc: 0.9664 | Val Loss: 0.3793, Val Acc: 0.8887 | Test Loss: 0.4061, Test Acc: 0.8824\n"
          ]
        },
        {
          "output_type": "stream",
          "name": "stderr",
          "text": []
        },
        {
          "output_type": "stream",
          "name": "stdout",
          "text": [
            "Epoch 88/100 - Train Loss: 0.1056, Train Acc: 0.9643 | Val Loss: 0.3774, Val Acc: 0.8885 | Test Loss: 0.4007, Test Acc: 0.8863\n"
          ]
        },
        {
          "output_type": "stream",
          "name": "stderr",
          "text": []
        },
        {
          "output_type": "stream",
          "name": "stdout",
          "text": [
            "Epoch 89/100 - Train Loss: 0.1019, Train Acc: 0.9656 | Val Loss: 0.3810, Val Acc: 0.8873 | Test Loss: 0.4048, Test Acc: 0.8856\n"
          ]
        },
        {
          "output_type": "stream",
          "name": "stderr",
          "text": []
        },
        {
          "output_type": "stream",
          "name": "stdout",
          "text": [
            "Epoch 90/100 - Train Loss: 0.1011, Train Acc: 0.9662 | Val Loss: 0.3806, Val Acc: 0.8887 | Test Loss: 0.4044, Test Acc: 0.8871\n"
          ]
        },
        {
          "output_type": "stream",
          "name": "stderr",
          "text": []
        },
        {
          "output_type": "stream",
          "name": "stdout",
          "text": [
            "Epoch 91/100 - Train Loss: 0.1012, Train Acc: 0.9630 | Val Loss: 0.3873, Val Acc: 0.8865 | Test Loss: 0.4064, Test Acc: 0.8865\n"
          ]
        },
        {
          "output_type": "stream",
          "name": "stderr",
          "text": []
        },
        {
          "output_type": "stream",
          "name": "stdout",
          "text": [
            "Epoch 92/100 - Train Loss: 0.1049, Train Acc: 0.9638 | Val Loss: 0.3777, Val Acc: 0.8869 | Test Loss: 0.4033, Test Acc: 0.8851\n"
          ]
        },
        {
          "output_type": "stream",
          "name": "stderr",
          "text": []
        },
        {
          "output_type": "stream",
          "name": "stdout",
          "text": [
            "Epoch 93/100 - Train Loss: 0.1026, Train Acc: 0.9645 | Val Loss: 0.3813, Val Acc: 0.8873 | Test Loss: 0.4038, Test Acc: 0.8874\n"
          ]
        },
        {
          "output_type": "stream",
          "name": "stderr",
          "text": []
        },
        {
          "output_type": "stream",
          "name": "stdout",
          "text": [
            "Epoch 94/100 - Train Loss: 0.1014, Train Acc: 0.9640 | Val Loss: 0.3794, Val Acc: 0.8889 | Test Loss: 0.4063, Test Acc: 0.8836\n"
          ]
        },
        {
          "output_type": "stream",
          "name": "stderr",
          "text": []
        },
        {
          "output_type": "stream",
          "name": "stdout",
          "text": [
            "Epoch 95/100 - Train Loss: 0.1005, Train Acc: 0.9660 | Val Loss: 0.3805, Val Acc: 0.8878 | Test Loss: 0.4041, Test Acc: 0.8854\n"
          ]
        },
        {
          "output_type": "stream",
          "name": "stderr",
          "text": []
        },
        {
          "output_type": "stream",
          "name": "stdout",
          "text": [
            "Epoch 96/100 - Train Loss: 0.1051, Train Acc: 0.9644 | Val Loss: 0.3819, Val Acc: 0.8900 | Test Loss: 0.4072, Test Acc: 0.8876\n"
          ]
        },
        {
          "output_type": "stream",
          "name": "stderr",
          "text": []
        },
        {
          "output_type": "stream",
          "name": "stdout",
          "text": [
            "Epoch 97/100 - Train Loss: 0.1074, Train Acc: 0.9633 | Val Loss: 0.3799, Val Acc: 0.8885 | Test Loss: 0.4055, Test Acc: 0.8885\n"
          ]
        },
        {
          "output_type": "stream",
          "name": "stderr",
          "text": []
        },
        {
          "output_type": "stream",
          "name": "stdout",
          "text": [
            "Epoch 98/100 - Train Loss: 0.1036, Train Acc: 0.9644 | Val Loss: 0.3780, Val Acc: 0.8891 | Test Loss: 0.4028, Test Acc: 0.8842\n"
          ]
        },
        {
          "output_type": "stream",
          "name": "stderr",
          "text": []
        },
        {
          "output_type": "stream",
          "name": "stdout",
          "text": [
            "Epoch 99/100 - Train Loss: 0.1044, Train Acc: 0.9632 | Val Loss: 0.3795, Val Acc: 0.8876 | Test Loss: 0.4075, Test Acc: 0.8827\n"
          ]
        },
        {
          "output_type": "stream",
          "name": "stderr",
          "text": [
            "                                                                        "
          ]
        },
        {
          "output_type": "stream",
          "name": "stdout",
          "text": [
            "Epoch 100/100 - Train Loss: 0.1041, Train Acc: 0.9630 | Val Loss: 0.3755, Val Acc: 0.8909 | Test Loss: 0.4001, Test Acc: 0.8865\n",
            "Best Validation Accuracy: 0.8900\n"
          ]
        },
        {
          "output_type": "stream",
          "name": "stderr",
          "text": [
            "\r"
          ]
        }
      ],
      "source": [
        "# Reshape for Conv1D\n",
        "X_train = X_train.reshape(X_train.shape[0], 1, X_train.shape[1])\n",
        "X_val = X_val.reshape(X_val.shape[0], 1, X_val.shape[1])\n",
        "X_test = X_test.reshape(X_test.shape[0], 1, X_test.shape[1])\n",
        "\n",
        "# Create datasets and dataloaders\n",
        "train_dataset = FeatureDataset(X_train, y_train)\n",
        "val_dataset = FeatureDataset(X_val, y_val)\n",
        "test_dataset = FeatureDataset(X_test, y_test)\n",
        "\n",
        "train_loader = DataLoader(train_dataset, batch_size=batch_size, shuffle=True, num_workers=0, pin_memory=True, timeout=0)\n",
        "val_loader = DataLoader(val_dataset, batch_size=batch_size, shuffle=False, num_workers=0, pin_memory=True, timeout=0)\n",
        "test_loader = DataLoader(test_dataset, batch_size=batch_size, shuffle=False, num_workers=0, pin_memory=True, timeout=0)\n",
        "\n",
        "# Initialize model\n",
        "input_length = X_train.shape[2]\n",
        "num_classes = len(np.unique(labels))\n",
        "model = HybridCNNLSTMClassifier(input_length, num_classes).to(device)\n",
        "\n",
        "# Loss, optimizer, and scheduler\n",
        "criterion = nn.CrossEntropyLoss()\n",
        "optimizer = optim.Adam(model.parameters(), lr=learning_rate, weight_decay=weight_decay)\n",
        "scheduler = optim.lr_scheduler.ReduceLROnPlateau(optimizer, mode='min', factor=0.5, patience=3, verbose=True)\n",
        "\n",
        "# Train the model\n",
        "train_losses, val_losses, test_losses, train_accs, val_accs, test_accs, best_val_acc = train_model(\n",
        "    model, train_loader, val_loader, test_loader, criterion, optimizer, scheduler, num_epochs\n",
        ")\n",
        "print(f\"Best Validation Accuracy: {best_val_acc:.4f}\")"
      ]
    },
    {
      "cell_type": "code",
      "execution_count": null,
      "metadata": {
        "colab": {
          "base_uri": "https://localhost:8080/"
        },
        "id": "PtooPRgkTgwR",
        "outputId": "31a2ebbe-e562-4f49-cf52-47ec24901e70"
      },
      "outputs": [
        {
          "output_type": "stream",
          "name": "stderr",
          "text": [
            "Evaluating on Test Set: 100%|██████████| 70/70 [00:01<00:00, 65.29it/s]\n"
          ]
        },
        {
          "output_type": "stream",
          "name": "stdout",
          "text": [
            "Test Accuracy: 0.8867\n",
            "\n",
            "Classification Report:\n",
            "              precision    recall  f1-score   support\n",
            "\n",
            "           0     0.8867    0.9030    0.8948       763\n",
            "           1     0.8731    0.9213    0.8966       762\n",
            "           2     0.8954    0.8755    0.8854       763\n",
            "           3     0.8713    0.8781    0.8747       763\n",
            "           4     0.8777    0.8467    0.8619       763\n",
            "           5     0.9227    0.8972    0.9098       652\n",
            "\n",
            "    accuracy                         0.8867      4466\n",
            "   macro avg     0.8878    0.8870    0.8872      4466\n",
            "weighted avg     0.8870    0.8867    0.8866      4466\n",
            "\n",
            "Confusion Matrix:\n",
            "[[689   1  17  26   7  23]\n",
            " [  2 702  23  10  23   2]\n",
            " [ 23  32 668  17  21   2]\n",
            " [ 37  18  11 670  20   7]\n",
            " [  4  43  16  39 646  15]\n",
            " [ 22   8  11   7  19 585]]\n"
          ]
        }
      ],
      "source": [
        "# Evaluate on test set with the best model\n",
        "model.load_state_dict(torch.load(\"best_model.pth\"))\n",
        "model.eval()\n",
        "test_preds = []\n",
        "test_targets = []\n",
        "with torch.no_grad():\n",
        "    for X_batch, y_batch in tqdm(test_loader, desc=\"Evaluating on Test Set\"):\n",
        "        X_batch, y_batch = X_batch.to(device), y_batch.to(device)\n",
        "        outputs = model(X_batch)\n",
        "        preds = torch.argmax(outputs, dim=1)\n",
        "        test_preds.extend(preds.cpu().numpy())\n",
        "        test_targets.extend(y_batch.cpu().numpy())\n",
        "\n",
        "test_acc = accuracy_score(test_targets, test_preds)\n",
        "print(f\"Test Accuracy: {test_acc:.4f}\")\n",
        "\n",
        "# Classification report and confusion matrix\n",
        "print(\"\\nClassification Report:\")\n",
        "print(classification_report(test_targets, test_preds, digits=4))\n",
        "\n",
        "print(\"Confusion Matrix:\")\n",
        "print(confusion_matrix(test_targets, test_preds))"
      ]
    },
    {
      "cell_type": "code",
      "execution_count": null,
      "metadata": {
        "colab": {
          "base_uri": "https://localhost:8080/",
          "height": 957
        },
        "id": "NIOw4iVYTgwU",
        "outputId": "5c3b4510-aeb2-4ec5-ca84-c7e7c9fe2349"
      },
      "outputs": [
        {
          "output_type": "display_data",
          "data": {
            "text/plain": [
              "<Figure size 1000x500 with 1 Axes>"
            ],
            "image/png": "[encoded data removed]"
          },
          "metadata": {}
        },
        {
          "output_type": "display_data",
          "data": {
            "text/plain": [
              "<Figure size 1000x500 with 1 Axes>"
            ],
            "image/png": "[encoded data removed]"
          },
          "metadata": {}
        }
      ],
      "source": [
        "\n",
        "# Plot training, validation, and test accuracy\n",
        "plt.figure(figsize=(10, 5))\n",
        "plt.plot(train_accs, label=\"Train Accuracy\")\n",
        "plt.plot(val_accs, label=\"Val Accuracy\")\n",
        "plt.plot(test_accs, label=\"Test Accuracy\")\n",
        "plt.xlabel(\"Epoch\")\n",
        "plt.ylabel(\"Accuracy\")\n",
        "plt.title(\"Training, Validation, and Test Accuracy\")\n",
        "plt.legend()\n",
        "plt.show()\n",
        "\n",
        "# Plot training, validation, and test loss\n",
        "plt.figure(figsize=(10, 5))\n",
        "plt.plot(train_losses, label=\"Train Loss\")\n",
        "plt.plot(val_losses, label=\"Val Loss\")\n",
        "plt.plot(test_losses, label=\"Test Loss\")\n",
        "plt.xlabel(\"Epoch\")\n",
        "plt.ylabel(\"Loss\")\n",
        "plt.title(\"Training, Validation, and Test Loss\")\n",
        "plt.legend()\n",
        "plt.show()"
      ]
    }
  ],
  "metadata": {
    "kernelspec": {
      "display_name": "Python 3",
      "name": "python3"
    },
    "language_info": {
      "codemirror_mode": {
        "name": "ipython",
        "version": 3
      },
      "file_extension": ".py",
      "mimetype": "text/x-python",
      "name": "python",
      "nbconvert_exporter": "python",
      "pygments_lexer": "ipython3",
      "version": "3.11.6"
    },
    "colab": {
      "provenance": [],
      "gpuType": "T4"
    },
    "accelerator": "GPU"
  },
  "nbformat": 4,
  "nbformat_minor": 0
}